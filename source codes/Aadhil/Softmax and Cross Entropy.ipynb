{
 "cells": [
  {
   "cell_type": "code",
   "execution_count": 1,
   "metadata": {},
   "outputs": [],
   "source": [
    "import torch\n",
    "import torch.nn as nn\n",
    "import numpy as np"
   ]
  },
  {
   "cell_type": "code",
   "execution_count": 5,
   "metadata": {},
   "outputs": [],
   "source": [
    "def softmax(x):\n",
    "    return np.exp(x) / np.sum(np.exp(x) , axis =0)"
   ]
  },
  {
   "cell_type": "code",
   "execution_count": 7,
   "metadata": {},
   "outputs": [
    {
     "name": "stdout",
     "output_type": "stream",
     "text": [
      "softmax output: [0.65900114 0.24243297 0.09856589]\n"
     ]
    }
   ],
   "source": [
    "x = np.array([2.0 , 1.0 , 0.1])\n",
    "outputs = softmax(x)\n",
    "print('softmax output:' , outputs)"
   ]
  },
  {
   "cell_type": "code",
   "execution_count": 8,
   "metadata": {},
   "outputs": [
    {
     "name": "stdout",
     "output_type": "stream",
     "text": [
      "softmax output: tensor([0.6590, 0.2424, 0.0986])\n"
     ]
    }
   ],
   "source": [
    "x = torch.tensor([2.0 ,1.0 , 0.1])\n",
    "outputs = torch.softmax(x , dim=0)\n",
    "print('softmax output:' , outputs)"
   ]
  },
  {
   "cell_type": "code",
   "execution_count": 9,
   "metadata": {},
   "outputs": [],
   "source": [
    "def cross_entropy(actual , predicted):\n",
    "    loss = -np.sum(actual * np.log(predicted))\n",
    "    return loss"
   ]
  },
  {
   "cell_type": "code",
   "execution_count": 10,
   "metadata": {},
   "outputs": [
    {
     "name": "stdout",
     "output_type": "stream",
     "text": [
      "Loss1 numpy:0.3567\n",
      "Loss2 numpy:2.3026\n"
     ]
    }
   ],
   "source": [
    "Y = np.array([1,0,0])\n",
    "y_pred_good = np.array([0.7 , 0.2 , 0.1])\n",
    "y_pred_bad = np.array([0.1 , 0.3 , 0.6])\n",
    "l1 = cross_entropy(Y , y_pred_good)\n",
    "l2 = cross_entropy(Y , y_pred_bad)\n",
    "print(f'Loss1 numpy:{l1:.4f}')\n",
    "print(f'Loss2 numpy:{l2:.4f}')"
   ]
  },
  {
   "cell_type": "code",
   "execution_count": 18,
   "metadata": {},
   "outputs": [
    {
     "name": "stdout",
     "output_type": "stream",
     "text": [
      "0.3018244206905365\n",
      "1.1118476390838623\n"
     ]
    }
   ],
   "source": [
    "loss = nn.CrossEntropyLoss()\n",
    "\n",
    "Y = torch.tensor([2,0,1])\n",
    "y_pred_good = torch.tensor([[0.1 , 1.0 , 2.1] , [2.0 , 1.0 , 0.1] , [0.1 , 3.0 , 0.1]])\n",
    "y_pred_bad = torch.tensor([[2.1 , 1.0 , 2.1] , [0.1 , 1.0 , 2.1] , [0.1 , 3.0 , 0.1]])\n",
    "\n",
    "l1 = loss(y_pred_good,Y)\n",
    "l2 = loss(y_pred_bad , Y)\n",
    "\n",
    "print(l1.item())\n",
    "print(l2.item())"
   ]
  },
  {
   "cell_type": "code",
   "execution_count": 19,
   "metadata": {},
   "outputs": [
    {
     "name": "stdout",
     "output_type": "stream",
     "text": [
      "tensor([2, 0, 1])\n",
      "tensor([0, 2, 1])\n"
     ]
    }
   ],
   "source": [
    "_, prediction1 = torch.max(y_pred_good,1)\n",
    "_, prediction2 = torch.max(y_pred_bad,1)\n",
    "print(prediction1)\n",
    "print(prediction2)"
   ]
  },
  {
   "cell_type": "markdown",
   "metadata": {},
   "source": [
    "## Multi Class"
   ]
  },
  {
   "cell_type": "code",
   "execution_count": 21,
   "metadata": {},
   "outputs": [],
   "source": [
    "class NeuralNet2(nn.Module):\n",
    "    def __init__(self , input_size , hidden_size , num_classes):\n",
    "        super(NeuralNet2 , self).__init__()\n",
    "        self.linear1 = nn.Linear(input_size, hidden_size)\n",
    "        self.relu = nn.ReLU()\n",
    "        self.linear2 = nn.Linear(hidden_size,num_classes)\n",
    "        \n",
    "    def forward(self,x):\n",
    "        out = self.linear1(x)\n",
    "        out = self.relu(out)\n",
    "        out = self.linear2(out)\n",
    "        \n",
    "        y_pred = torch.sigmoid(out)\n",
    "        \n",
    "        return y_pred\n",
    "    \n",
    "\n",
    "model = NeuralNet2(input_size=28*28 , hidden_size=5 , num_classes=3)\n",
    "criterion = nn.CrossEntropyLoss()"
   ]
  },
  {
   "cell_type": "code",
   "execution_count": null,
   "metadata": {},
   "outputs": [],
   "source": []
  }
 ],
 "metadata": {
  "kernelspec": {
   "display_name": "Python 3",
   "language": "python",
   "name": "python3"
  },
  "language_info": {
   "codemirror_mode": {
    "name": "ipython",
    "version": 3
   },
   "file_extension": ".py",
   "mimetype": "text/x-python",
   "name": "python",
   "nbconvert_exporter": "python",
   "pygments_lexer": "ipython3",
   "version": "3.7.4"
  }
 },
 "nbformat": 4,
 "nbformat_minor": 4
}
