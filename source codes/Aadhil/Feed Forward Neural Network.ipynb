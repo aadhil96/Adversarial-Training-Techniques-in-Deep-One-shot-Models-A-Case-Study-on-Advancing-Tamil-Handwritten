{
 "cells": [
  {
   "cell_type": "code",
   "execution_count": 1,
   "metadata": {},
   "outputs": [],
   "source": [
    "import torch\n",
    "import torch.nn as nn\n",
    "import torchvision\n",
    "import torchvision.transforms as transforms\n",
    "import matplotlib.pyplot as plt"
   ]
  },
  {
   "cell_type": "code",
   "execution_count": 2,
   "metadata": {},
   "outputs": [],
   "source": [
    "input_size = 784\n",
    "hidden_size = 100\n",
    "num_classes = 10\n",
    "num_epochs = 10\n",
    "batch_size = 100\n",
    "learning_rate = 0.001"
   ]
  },
  {
   "cell_type": "code",
   "execution_count": 12,
   "metadata": {},
   "outputs": [],
   "source": [
    "transform = transforms.Compose([transforms.ToTensor(),\n",
    "                                transforms.Normalize((0.1307,),(0.3081,))])"
   ]
  },
  {
   "cell_type": "code",
   "execution_count": 14,
   "metadata": {},
   "outputs": [],
   "source": [
    "#MNIST\n",
    "train_dataset = torchvision.datasets.MNIST(root='./data',train=True,\n",
    "                transform = transform, download = True)\n",
    "\n",
    "test_dataset = torchvision.datasets.MNIST(root='./data',train=False,\n",
    "                transform = transform)"
   ]
  },
  {
   "cell_type": "code",
   "execution_count": 15,
   "metadata": {},
   "outputs": [],
   "source": [
    "train_loader = torch.utils.data.DataLoader(dataset = train_dataset,batch_size=batch_size,shuffle=True)\n",
    "\n",
    "test_loader = torch.utils.data.DataLoader(dataset = test_dataset,batch_size=batch_size,shuffle=True) "
   ]
  },
  {
   "cell_type": "code",
   "execution_count": 16,
   "metadata": {},
   "outputs": [
    {
     "name": "stdout",
     "output_type": "stream",
     "text": [
      "torch.Size([100, 1, 28, 28]) torch.Size([100])\n"
     ]
    }
   ],
   "source": [
    "examples = iter(train_loader)\n",
    "samples , labels = examples.next()\n",
    "print(samples.shape , labels.shape)"
   ]
  },
  {
   "cell_type": "code",
   "execution_count": 17,
   "metadata": {},
   "outputs": [
    {
     "data": {
      "image/png": "[encoded data removed]",
      "text/plain": [
       "<Figure size 432x288 with 6 Axes>"
      ]
     },
     "metadata": {
      "needs_background": "light"
     },
     "output_type": "display_data"
    }
   ],
   "source": [
    "for i in range(6):\n",
    "    plt.subplot(2,3,i+1)\n",
    "    plt.imshow(samples[i][0] , cmap = 'gray')\n",
    "plt.show()    "
   ]
  },
  {
   "cell_type": "code",
   "execution_count": 18,
   "metadata": {},
   "outputs": [],
   "source": [
    "class NeuralNet(nn.Module):\n",
    "    def __init__(self, input_size , hidden_size , num_classes):\n",
    "        super(NeuralNet,self).__init__()\n",
    "        self.l1 = nn.Linear(input_size,hidden_size)\n",
    "        self.relu = nn.ReLU()\n",
    "        self.l2 = nn.Linear(hidden_size,num_classes)\n",
    "        \n",
    "    def forward(self,x):\n",
    "        out = self.l1(x)\n",
    "        out = self.relu(out)\n",
    "        out = self.l2(out)\n",
    "        return out"
   ]
  },
  {
   "cell_type": "code",
   "execution_count": 19,
   "metadata": {},
   "outputs": [],
   "source": [
    "model = NeuralNet(input_size,hidden_size,num_classes)"
   ]
  },
  {
   "cell_type": "code",
   "execution_count": 20,
   "metadata": {},
   "outputs": [],
   "source": [
    "#loss and optimizer\n",
    "criterion = nn.CrossEntropyLoss()\n",
    "optimizer = torch.optim.Adam(model.parameters() , lr=learning_rate)"
   ]
  },
  {
   "cell_type": "code",
   "execution_count": 21,
   "metadata": {},
   "outputs": [
    {
     "name": "stdout",
     "output_type": "stream",
     "text": [
      "epoch 1 / 10 , step 100/600, loss=0.4050\n",
      "epoch 1 / 10 , step 200/600, loss=0.2272\n",
      "epoch 1 / 10 , step 300/600, loss=0.2268\n",
      "epoch 1 / 10 , step 400/600, loss=0.1557\n",
      "epoch 1 / 10 , step 500/600, loss=0.1441\n",
      "epoch 1 / 10 , step 600/600, loss=0.1475\n",
      "epoch 2 / 10 , step 100/600, loss=0.0961\n",
      "epoch 2 / 10 , step 200/600, loss=0.1959\n",
      "epoch 2 / 10 , step 300/600, loss=0.0884\n",
      "epoch 2 / 10 , step 400/600, loss=0.1284\n",
      "epoch 2 / 10 , step 500/600, loss=0.0388\n",
      "epoch 2 / 10 , step 600/600, loss=0.2434\n",
      "epoch 3 / 10 , step 100/600, loss=0.1418\n",
      "epoch 3 / 10 , step 200/600, loss=0.0774\n",
      "epoch 3 / 10 , step 300/600, loss=0.0297\n",
      "epoch 3 / 10 , step 400/600, loss=0.0988\n",
      "epoch 3 / 10 , step 500/600, loss=0.1171\n",
      "epoch 3 / 10 , step 600/600, loss=0.0907\n",
      "epoch 4 / 10 , step 100/600, loss=0.1433\n",
      "epoch 4 / 10 , step 200/600, loss=0.0742\n",
      "epoch 4 / 10 , step 300/600, loss=0.0347\n",
      "epoch 4 / 10 , step 400/600, loss=0.0207\n",
      "epoch 4 / 10 , step 500/600, loss=0.0102\n",
      "epoch 4 / 10 , step 600/600, loss=0.0448\n",
      "epoch 5 / 10 , step 100/600, loss=0.0745\n",
      "epoch 5 / 10 , step 200/600, loss=0.0534\n",
      "epoch 5 / 10 , step 300/600, loss=0.1454\n",
      "epoch 5 / 10 , step 400/600, loss=0.0232\n",
      "epoch 5 / 10 , step 500/600, loss=0.0649\n",
      "epoch 5 / 10 , step 600/600, loss=0.0448\n",
      "epoch 6 / 10 , step 100/600, loss=0.0512\n",
      "epoch 6 / 10 , step 200/600, loss=0.0141\n",
      "epoch 6 / 10 , step 300/600, loss=0.0287\n",
      "epoch 6 / 10 , step 400/600, loss=0.0194\n",
      "epoch 6 / 10 , step 500/600, loss=0.0883\n",
      "epoch 6 / 10 , step 600/600, loss=0.0709\n",
      "epoch 7 / 10 , step 100/600, loss=0.0787\n",
      "epoch 7 / 10 , step 200/600, loss=0.0120\n",
      "epoch 7 / 10 , step 300/600, loss=0.1092\n",
      "epoch 7 / 10 , step 400/600, loss=0.0182\n",
      "epoch 7 / 10 , step 500/600, loss=0.1420\n",
      "epoch 7 / 10 , step 600/600, loss=0.0750\n",
      "epoch 8 / 10 , step 100/600, loss=0.0076\n",
      "epoch 8 / 10 , step 200/600, loss=0.0700\n",
      "epoch 8 / 10 , step 300/600, loss=0.1380\n",
      "epoch 8 / 10 , step 400/600, loss=0.0145\n",
      "epoch 8 / 10 , step 500/600, loss=0.0672\n",
      "epoch 8 / 10 , step 600/600, loss=0.0086\n",
      "epoch 9 / 10 , step 100/600, loss=0.0309\n",
      "epoch 9 / 10 , step 200/600, loss=0.0135\n",
      "epoch 9 / 10 , step 300/600, loss=0.0060\n",
      "epoch 9 / 10 , step 400/600, loss=0.0116\n",
      "epoch 9 / 10 , step 500/600, loss=0.0228\n",
      "epoch 9 / 10 , step 600/600, loss=0.0052\n",
      "epoch 10 / 10 , step 100/600, loss=0.0087\n",
      "epoch 10 / 10 , step 200/600, loss=0.0090\n",
      "epoch 10 / 10 , step 300/600, loss=0.0562\n",
      "epoch 10 / 10 , step 400/600, loss=0.0145\n",
      "epoch 10 / 10 , step 500/600, loss=0.0051\n",
      "epoch 10 / 10 , step 600/600, loss=0.0389\n",
      "accuracy = 97.8\n"
     ]
    }
   ],
   "source": [
    "#training loop\n",
    "n_total_steps = len(train_loader)\n",
    "for epoch in range(num_epochs):\n",
    "    for i,(images , labels) in enumerate(train_loader):\n",
    "        # 100 , 1 , 28 , 28\n",
    "        # 100 , 784\n",
    "        images = images.reshape(-1,28*28)\n",
    "        \n",
    "        #forward\n",
    "        outputs = model(images)\n",
    "        loss = criterion(outputs,labels)\n",
    "        \n",
    "        #backward\n",
    "        optimizer.zero_grad()\n",
    "        loss.backward()\n",
    "        optimizer.step()\n",
    "        \n",
    "        if (i+1) % 100 == 0:\n",
    "            print(f'epoch {epoch+1} / {num_epochs} , step {i+1}/{n_total_steps}, loss={loss.item():.4f}')\n",
    "            \n",
    "\n",
    "#test\n",
    "with torch.no_grad():\n",
    "    n_correct = 0\n",
    "    n_samples = 0\n",
    "    for images , labels in test_loader:\n",
    "        images = images.reshape(-1,28*28)\n",
    "        outputs = model(images)\n",
    "        #value , index \n",
    "        _, predictions = torch.max(outputs,1)\n",
    "        n_samples += labels.shape[0]\n",
    "        n_correct += (predictions == labels).sum().item()\n",
    "        \n",
    "    acc = 100.0 * n_correct / n_samples\n",
    "    print(f'accuracy = {acc}')"
   ]
  },
  {
   "cell_type": "code",
   "execution_count": 22,
   "metadata": {},
   "outputs": [],
   "source": [
    "torch.save(model.state_dict(),\"mnist_ffn.ptn\")"
   ]
  },
  {
   "cell_type": "code",
   "execution_count": null,
   "metadata": {},
   "outputs": [],
   "source": []
  }
 ],
 "metadata": {
  "kernelspec": {
   "display_name": "Python 3",
   "language": "python",
   "name": "python3"
  },
  "language_info": {
   "codemirror_mode": {
    "name": "ipython",
    "version": 3
   },
   "file_extension": ".py",
   "mimetype": "text/x-python",
   "name": "python",
   "nbconvert_exporter": "python",
   "pygments_lexer": "ipython3",
   "version": "3.7.4"
  }
 },
 "nbformat": 4,
 "nbformat_minor": 4
}
