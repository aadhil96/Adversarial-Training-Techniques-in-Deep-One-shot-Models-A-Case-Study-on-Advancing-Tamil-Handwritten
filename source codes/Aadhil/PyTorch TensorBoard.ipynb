{
 "cells": [
  {
   "cell_type": "code",
   "execution_count": 12,
   "metadata": {},
   "outputs": [],
   "source": [
    "import torch\n",
    "import torch.nn as nn\n",
    "import torchvision\n",
    "import torchvision.transforms as transforms\n",
    "import matplotlib.pyplot as plt\n",
    "\n",
    "from torch.utils.tensorboard import SummaryWriter\n",
    "writer = SummaryWriter(\"runs/mnist\")"
   ]
  },
  {
   "cell_type": "code",
   "execution_count": 13,
   "metadata": {},
   "outputs": [],
   "source": [
    "input_size = 784\n",
    "hidden_size = 100\n",
    "num_classes = 10\n",
    "num_epochs = 10\n",
    "batch_size = 100\n",
    "learning_rate = 0.001"
   ]
  },
  {
   "cell_type": "code",
   "execution_count": 14,
   "metadata": {},
   "outputs": [],
   "source": [
    "#MNIST\n",
    "train_dataset = torchvision.datasets.MNIST(root='./data',train=True,\n",
    "                transform= transforms.ToTensor() , download = True)\n",
    "\n",
    "test_dataset = torchvision.datasets.MNIST(root='./data',train=False,\n",
    "                transform= transforms.ToTensor())"
   ]
  },
  {
   "cell_type": "code",
   "execution_count": 15,
   "metadata": {},
   "outputs": [],
   "source": [
    "train_loader = torch.utils.data.DataLoader(dataset = train_dataset,batch_size=batch_size,shuffle=True)\n",
    "\n",
    "test_loader = torch.utils.data.DataLoader(dataset = test_dataset,batch_size=batch_size,shuffle=True) "
   ]
  },
  {
   "cell_type": "code",
   "execution_count": 16,
   "metadata": {},
   "outputs": [
    {
     "name": "stdout",
     "output_type": "stream",
     "text": [
      "torch.Size([100, 1, 28, 28]) torch.Size([100])\n"
     ]
    }
   ],
   "source": [
    "examples = iter(train_loader)\n",
    "samples , labels = examples.next()\n",
    "print(samples.shape , labels.shape)"
   ]
  },
  {
   "cell_type": "code",
   "execution_count": 17,
   "metadata": {},
   "outputs": [],
   "source": [
    "example_data , example_targets = examples.next()"
   ]
  },
  {
   "cell_type": "code",
   "execution_count": 19,
   "metadata": {},
   "outputs": [
    {
     "data": {
      "image/png": "[encoded data removed]",
      "text/plain": [
       "<Figure size 432x288 with 6 Axes>"
      ]
     },
     "metadata": {
      "needs_background": "light"
     },
     "output_type": "display_data"
    }
   ],
   "source": [
    "for i in range(6):\n",
    "    plt.subplot(2,3,i+1)\n",
    "    plt.imshow(samples[i][0] , cmap = 'gray')\n",
    "#plt.show()    \n",
    "img_grid = torchvision.utils.make_grid(example_data)\n",
    "writer.add_image('mnist images', img_grid)"
   ]
  },
  {
   "cell_type": "code",
   "execution_count": 7,
   "metadata": {},
   "outputs": [],
   "source": [
    "class NeuralNet(nn.Module):\n",
    "    def __init__(self, input_size , hidden_size , num_classes):\n",
    "        super(NeuralNet,self).__init__()\n",
    "        self.l1 = nn.Linear(input_size,hidden_size)\n",
    "        self.relu = nn.ReLU()\n",
    "        self.l2 = nn.Linear(hidden_size,num_classes)\n",
    "        \n",
    "    def forward(self,x):\n",
    "        out = self.l1(x)\n",
    "        out = self.relu(out)\n",
    "        out = self.l2(out)\n",
    "        return out"
   ]
  },
  {
   "cell_type": "code",
   "execution_count": 8,
   "metadata": {},
   "outputs": [],
   "source": [
    "model = NeuralNet(input_size,hidden_size,num_classes)"
   ]
  },
  {
   "cell_type": "code",
   "execution_count": 9,
   "metadata": {},
   "outputs": [],
   "source": [
    "#loss and optimizer\n",
    "criterion = nn.CrossEntropyLoss()\n",
    "optimizer = torch.optim.Adam(model.parameters() , lr=learning_rate)"
   ]
  },
  {
   "cell_type": "code",
   "execution_count": 10,
   "metadata": {},
   "outputs": [
    {
     "name": "stdout",
     "output_type": "stream",
     "text": [
      "epoch 1 / 10 , step 100/600, loss=0.2941\n",
      "epoch 1 / 10 , step 200/600, loss=0.2960\n",
      "epoch 1 / 10 , step 300/600, loss=0.3662\n",
      "epoch 1 / 10 , step 400/600, loss=0.2401\n",
      "epoch 1 / 10 , step 500/600, loss=0.2615\n",
      "epoch 1 / 10 , step 600/600, loss=0.2142\n",
      "epoch 2 / 10 , step 100/600, loss=0.1737\n",
      "epoch 2 / 10 , step 200/600, loss=0.2472\n",
      "epoch 2 / 10 , step 300/600, loss=0.1698\n",
      "epoch 2 / 10 , step 400/600, loss=0.1150\n",
      "epoch 2 / 10 , step 500/600, loss=0.3662\n",
      "epoch 2 / 10 , step 600/600, loss=0.3331\n",
      "epoch 3 / 10 , step 100/600, loss=0.1609\n",
      "epoch 3 / 10 , step 200/600, loss=0.0888\n",
      "epoch 3 / 10 , step 300/600, loss=0.1652\n",
      "epoch 3 / 10 , step 400/600, loss=0.0759\n",
      "epoch 3 / 10 , step 500/600, loss=0.1666\n",
      "epoch 3 / 10 , step 600/600, loss=0.2099\n",
      "epoch 4 / 10 , step 100/600, loss=0.1295\n",
      "epoch 4 / 10 , step 200/600, loss=0.1727\n",
      "epoch 4 / 10 , step 300/600, loss=0.0988\n",
      "epoch 4 / 10 , step 400/600, loss=0.0899\n",
      "epoch 4 / 10 , step 500/600, loss=0.0433\n",
      "epoch 4 / 10 , step 600/600, loss=0.1314\n",
      "epoch 5 / 10 , step 100/600, loss=0.1032\n",
      "epoch 5 / 10 , step 200/600, loss=0.0991\n",
      "epoch 5 / 10 , step 300/600, loss=0.0713\n",
      "epoch 5 / 10 , step 400/600, loss=0.0866\n",
      "epoch 5 / 10 , step 500/600, loss=0.1329\n",
      "epoch 5 / 10 , step 600/600, loss=0.0492\n",
      "epoch 6 / 10 , step 100/600, loss=0.0685\n",
      "epoch 6 / 10 , step 200/600, loss=0.0620\n",
      "epoch 6 / 10 , step 300/600, loss=0.0605\n",
      "epoch 6 / 10 , step 400/600, loss=0.0729\n",
      "epoch 6 / 10 , step 500/600, loss=0.0425\n",
      "epoch 6 / 10 , step 600/600, loss=0.0682\n",
      "epoch 7 / 10 , step 100/600, loss=0.0571\n",
      "epoch 7 / 10 , step 200/600, loss=0.0497\n",
      "epoch 7 / 10 , step 300/600, loss=0.0691\n",
      "epoch 7 / 10 , step 400/600, loss=0.1218\n",
      "epoch 7 / 10 , step 500/600, loss=0.0463\n",
      "epoch 7 / 10 , step 600/600, loss=0.0355\n",
      "epoch 8 / 10 , step 100/600, loss=0.0198\n",
      "epoch 8 / 10 , step 200/600, loss=0.0350\n",
      "epoch 8 / 10 , step 300/600, loss=0.0798\n",
      "epoch 8 / 10 , step 400/600, loss=0.0694\n",
      "epoch 8 / 10 , step 500/600, loss=0.0768\n",
      "epoch 8 / 10 , step 600/600, loss=0.0480\n",
      "epoch 9 / 10 , step 100/600, loss=0.0421\n",
      "epoch 9 / 10 , step 200/600, loss=0.0467\n",
      "epoch 9 / 10 , step 300/600, loss=0.0250\n",
      "epoch 9 / 10 , step 400/600, loss=0.0345\n",
      "epoch 9 / 10 , step 500/600, loss=0.0425\n",
      "epoch 9 / 10 , step 600/600, loss=0.0303\n",
      "epoch 10 / 10 , step 100/600, loss=0.0149\n",
      "epoch 10 / 10 , step 200/600, loss=0.0136\n",
      "epoch 10 / 10 , step 300/600, loss=0.0352\n",
      "epoch 10 / 10 , step 400/600, loss=0.0252\n",
      "epoch 10 / 10 , step 500/600, loss=0.0432\n",
      "epoch 10 / 10 , step 600/600, loss=0.1200\n",
      "accuracy = 97.39\n"
     ]
    }
   ],
   "source": [
    "#training loop\n",
    "n_total_steps = len(train_loader)\n",
    "for epoch in range(num_epochs):\n",
    "    for i,(images , labels) in enumerate(train_loader):\n",
    "        # 100 , 1 , 28 , 28\n",
    "        # 100 , 784\n",
    "        images = images.reshape(-1,28*28)\n",
    "        \n",
    "        #forward\n",
    "        outputs = model(images)\n",
    "        loss = criterion(outputs,labels)\n",
    "        \n",
    "        #backward\n",
    "        optimizer.zero_grad()\n",
    "        loss.backward()\n",
    "        optimizer.step()\n",
    "        \n",
    "        if (i+1) % 100 == 0:\n",
    "            print(f'epoch {epoch+1} / {num_epochs} , step {i+1}/{n_total_steps}, loss={loss.item():.4f}')\n",
    "            \n",
    "\n",
    "#test\n",
    "with torch.no_grad():\n",
    "    n_correct = 0\n",
    "    n_samples = 0\n",
    "    for images , labels in test_loader:\n",
    "        images = images.reshape(-1,28*28)\n",
    "        outputs = model(images)\n",
    "        #value , index \n",
    "        _, predictions = torch.max(outputs,1)\n",
    "        n_samples += labels.shape[0]\n",
    "        n_correct += (predictions == labels).sum().item()\n",
    "        \n",
    "    acc = 100.0 * n_correct / n_samples\n",
    "    print(f'accuracy = {acc}')"
   ]
  },
  {
   "cell_type": "code",
   "execution_count": null,
   "metadata": {},
   "outputs": [],
   "source": []
  }
 ],
 "metadata": {
  "kernelspec": {
   "display_name": "Python 3",
   "language": "python",
   "name": "python3"
  },
  "language_info": {
   "codemirror_mode": {
    "name": "ipython",
    "version": 3
   },
   "file_extension": ".py",
   "mimetype": "text/x-python",
   "name": "python",
   "nbconvert_exporter": "python",
   "pygments_lexer": "ipython3",
   "version": "3.7.4"
  }
 },
 "nbformat": 4,
 "nbformat_minor": 4
}
